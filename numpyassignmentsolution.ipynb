{
  "nbformat": 4,
  "nbformat_minor": 0,
  "metadata": {
    "colab": {
      "provenance": [],
      "authorship_tag": "ABX9TyOBiEXZrXRvxfHWM54nMDvr",
      "include_colab_link": true
    },
    "kernelspec": {
      "name": "python3",
      "display_name": "Python 3"
    },
    "language_info": {
      "name": "python"
    }
  },
  "cells": [
    {
      "cell_type": "markdown",
      "metadata": {
        "id": "view-in-github",
        "colab_type": "text"
      },
      "source": [
        "<a href=\"https://colab.research.google.com/github/sandeep0097-97/RoomanDa/blob/main/numpyassignmentsolution.ipynb\" target=\"_parent\"><img src=\"https://colab.research.google.com/assets/colab-badge.svg\" alt=\"Open In Colab\"/></a>"
      ]
    },
    {
      "cell_type": "markdown",
      "source": [
        "####1. How do you create a NumPy array from a Python list?"
      ],
      "metadata": {
        "id": "K6COcjJW8dYU"
      }
    },
    {
      "cell_type": "markdown",
      "source": [
        "####Question: Convert the Python list [1, 2, 3, 4, 5] into a NumPy array.\n",
        "\n"
      ],
      "metadata": {
        "id": "OQYh7haW9Vo9"
      }
    },
    {
      "cell_type": "code",
      "execution_count": 12,
      "metadata": {
        "colab": {
          "base_uri": "https://localhost:8080/"
        },
        "id": "yEDpmKWr8ZNZ",
        "outputId": "33a4dd9a-d1fe-4d40-b915-85959ee3047c"
      },
      "outputs": [
        {
          "output_type": "stream",
          "name": "stdout",
          "text": [
            "[1 2 3 4 5]\n"
          ]
        }
      ],
      "source": [
        "import numpy as np\n",
        "arr = np.array([1, 2, 3, 4, 5])\n",
        "print(arr)\n"
      ]
    },
    {
      "cell_type": "markdown",
      "source": [
        "####2. How do you create a 3×3 matrix filled with zeros?"
      ],
      "metadata": {
        "id": "2w67GEM48q0n"
      }
    },
    {
      "cell_type": "markdown",
      "source": [
        "####Question: Create a 3×3 NumPy array filled with zeros.\n",
        "\n"
      ],
      "metadata": {
        "id": "h-CK6rbg9eDD"
      }
    },
    {
      "cell_type": "code",
      "source": [
        "arr = np.zeros((3, 3))\n",
        "print(arr)\n"
      ],
      "metadata": {
        "colab": {
          "base_uri": "https://localhost:8080/"
        },
        "id": "-eTB6pde8kmm",
        "outputId": "b726c180-9394-4d66-b731-469106c8aaa1"
      },
      "execution_count": 13,
      "outputs": [
        {
          "output_type": "stream",
          "name": "stdout",
          "text": [
            "[[0. 0. 0.]\n",
            " [0. 0. 0.]\n",
            " [0. 0. 0.]]\n"
          ]
        }
      ]
    },
    {
      "cell_type": "code",
      "source": [],
      "metadata": {
        "id": "3byd6KvI8t_H"
      },
      "execution_count": 13,
      "outputs": []
    },
    {
      "cell_type": "markdown",
      "source": [
        "####3. How do you generate a NumPy array with values from 1 to 10?"
      ],
      "metadata": {
        "id": "Q6t8IWyj8vnb"
      }
    },
    {
      "cell_type": "markdown",
      "source": [
        "####Question: Create an array with numbers from 1 to 10.\n",
        "\n"
      ],
      "metadata": {
        "id": "VDh8YA4I9lQr"
      }
    },
    {
      "cell_type": "code",
      "source": [
        "arr = np.arange(1, 11)\n",
        "print(arr)\n"
      ],
      "metadata": {
        "colab": {
          "base_uri": "https://localhost:8080/"
        },
        "id": "H_s4mvmH81gY",
        "outputId": "97e36a74-ca93-480d-8d4a-b6d87e602d4a"
      },
      "execution_count": 14,
      "outputs": [
        {
          "output_type": "stream",
          "name": "stdout",
          "text": [
            "[ 1  2  3  4  5  6  7  8  9 10]\n"
          ]
        }
      ]
    },
    {
      "cell_type": "markdown",
      "source": [
        "####4. How do you create a NumPy array of equally spaced values?"
      ],
      "metadata": {
        "id": "tSX9x4zK9EJ4"
      }
    },
    {
      "cell_type": "markdown",
      "source": [
        "####Question: Create an array of 5 numbers between 0 and 1.\n",
        "\n"
      ],
      "metadata": {
        "id": "lWEIiI2595Ov"
      }
    },
    {
      "cell_type": "code",
      "source": [
        "arr = np.linspace(0, 1, 5)\n",
        "print(arr)\n"
      ],
      "metadata": {
        "colab": {
          "base_uri": "https://localhost:8080/"
        },
        "id": "TilOt-TY9BfW",
        "outputId": "616068e8-b4f5-4137-d251-cfce16d93974"
      },
      "execution_count": 15,
      "outputs": [
        {
          "output_type": "stream",
          "name": "stdout",
          "text": [
            "[0.   0.25 0.5  0.75 1.  ]\n"
          ]
        }
      ]
    },
    {
      "cell_type": "markdown",
      "source": [
        "####5. How do you reshape a NumPy array?"
      ],
      "metadata": {
        "id": "ke6A3oTF9MK7"
      }
    },
    {
      "cell_type": "markdown",
      "source": [
        "####Question: Convert a 1D array [1, 2, 3, 4, 5, 6] into a 2×3 matrix.\n",
        "\n"
      ],
      "metadata": {
        "id": "c2nzg5Ns-AQ4"
      }
    },
    {
      "cell_type": "code",
      "source": [
        "arr = np.array([1, 2, 3, 4, 5, 6])\n",
        "reshaped_arr = arr.reshape(2, 3)\n",
        "print(reshaped_arr)\n"
      ],
      "metadata": {
        "colab": {
          "base_uri": "https://localhost:8080/"
        },
        "id": "yagzPrp484S_",
        "outputId": "431b1dab-2a85-49fc-cd88-96d20b429b92"
      },
      "execution_count": 16,
      "outputs": [
        {
          "output_type": "stream",
          "name": "stdout",
          "text": [
            "[[1 2 3]\n",
            " [4 5 6]]\n"
          ]
        }
      ]
    },
    {
      "cell_type": "markdown",
      "source": [
        "####6. How do you perform element-wise addition on NumPy arrays?"
      ],
      "metadata": {
        "id": "NjW559RD-0ps"
      }
    },
    {
      "cell_type": "markdown",
      "source": [
        "####Question: Given arr1 = [1, 2, 3] and arr2 = [4, 5, 6], perform element-wise addition."
      ],
      "metadata": {
        "id": "7NFranqm-_-v"
      }
    },
    {
      "cell_type": "code",
      "source": [
        "arr1 = np.array([1, 2, 3])\n",
        "arr2 = np.array([4, 5, 6])\n",
        "result = arr1 + arr2\n",
        "print(result)\n"
      ],
      "metadata": {
        "colab": {
          "base_uri": "https://localhost:8080/"
        },
        "id": "Ag9Ba11H9QgD",
        "outputId": "b663ded6-b537-4ed2-fb1f-b952da5bc874"
      },
      "execution_count": 17,
      "outputs": [
        {
          "output_type": "stream",
          "name": "stdout",
          "text": [
            "[5 7 9]\n"
          ]
        }
      ]
    },
    {
      "cell_type": "markdown",
      "source": [
        "####7. How do you find the maximum and minimum values in a NumPy array?"
      ],
      "metadata": {
        "id": "8t9ZTyqx_Jsa"
      }
    },
    {
      "cell_type": "markdown",
      "source": [
        "####Question: Find the maximum and minimum values in the array [3, 7, 2, 9, 5].\n",
        "\n"
      ],
      "metadata": {
        "id": "x52vyIJR_L4P"
      }
    },
    {
      "cell_type": "code",
      "source": [
        "arr = np.array([3, 7, 2, 9, 5])\n",
        "max_value = np.max(arr)\n",
        "min_value = np.min(arr)\n",
        "print(\"Max:\", max_value)\n",
        "print(\"Min:\", min_value)\n"
      ],
      "metadata": {
        "colab": {
          "base_uri": "https://localhost:8080/"
        },
        "id": "6kGmLr6j_Fkh",
        "outputId": "c50a7573-37eb-4b65-c10f-2616505f86d5"
      },
      "execution_count": 18,
      "outputs": [
        {
          "output_type": "stream",
          "name": "stdout",
          "text": [
            "Max: 9\n",
            "Min: 2\n"
          ]
        }
      ]
    },
    {
      "cell_type": "markdown",
      "source": [
        "####8. How do you calculate the mean and standard deviation of a NumPy array?"
      ],
      "metadata": {
        "id": "vrJQvKXY_T-W"
      }
    },
    {
      "cell_type": "markdown",
      "source": [
        "####Question: Compute the mean and standard deviation of [10, 20, 30, 40, 50].\n",
        "\n"
      ],
      "metadata": {
        "id": "9875lVdL_Y2B"
      }
    },
    {
      "cell_type": "markdown",
      "source": [
        "####9. How do you filter elements from a NumPy array?\n"
      ],
      "metadata": {
        "id": "KKKJMfWZ_gDx"
      }
    },
    {
      "cell_type": "code",
      "source": [],
      "metadata": {
        "id": "M-F7cEmd_P2c"
      },
      "execution_count": 18,
      "outputs": []
    },
    {
      "cell_type": "markdown",
      "source": [
        "####Question: Extract all values greater than 4 from the array [1, 3, 5, 7, 9].\n",
        "\n"
      ],
      "metadata": {
        "id": "PQ8vMc8Q_neW"
      }
    },
    {
      "cell_type": "markdown",
      "source": [
        "####9. How do you filter elements from a NumPy array?\n"
      ],
      "metadata": {
        "id": "c9H9Sj5x_jS2"
      }
    },
    {
      "cell_type": "code",
      "source": [
        "arr = np.array([1, 3, 5, 7, 9])\n",
        "filtered_arr = arr[arr > 4]\n",
        "print(filtered_arr)\n"
      ],
      "metadata": {
        "colab": {
          "base_uri": "https://localhost:8080/"
        },
        "id": "XKTY37sC_i4a",
        "outputId": "fb20573f-c906-4cf6-fc93-a3fc6b6f2bb0"
      },
      "execution_count": 19,
      "outputs": [
        {
          "output_type": "stream",
          "name": "stdout",
          "text": [
            "[5 7 9]\n"
          ]
        }
      ]
    },
    {
      "cell_type": "markdown",
      "source": [
        "####Question: Multiply two matrices:\n",
        "\n",
        "lua\n",
        "Copy\n",
        "Edit\n"
      ],
      "metadata": {
        "id": "zvcyLWed_3Rn"
      }
    },
    {
      "cell_type": "markdown",
      "source": [
        "####10. How do you perform matrix multiplication in NumPy?"
      ],
      "metadata": {
        "id": "gBUGv8i5_zpD"
      }
    },
    {
      "cell_type": "code",
      "source": [
        "A = [[1, 2],\n",
        "     [3, 4]]\n",
        "\n",
        "B = [[5, 6],\n",
        "     [7, 8]]\n"
      ],
      "metadata": {
        "id": "uKI5zGJu_bpv"
      },
      "execution_count": 20,
      "outputs": []
    },
    {
      "cell_type": "code",
      "source": [
        "A = np.array([[1, 2], [3, 4]])\n",
        "B = np.array([[5, 6], [7, 8]])\n",
        "result = np.dot(A, B)\n",
        "print(result)\n"
      ],
      "metadata": {
        "colab": {
          "base_uri": "https://localhost:8080/"
        },
        "id": "aPkqxDOA_8I6",
        "outputId": "ae57ec06-83f4-4a12-a625-00ca8bf1897a"
      },
      "execution_count": 21,
      "outputs": [
        {
          "output_type": "stream",
          "name": "stdout",
          "text": [
            "[[19 22]\n",
            " [43 50]]\n"
          ]
        }
      ]
    },
    {
      "cell_type": "code",
      "source": [],
      "metadata": {
        "id": "5Sjj254_AAPq"
      },
      "execution_count": 21,
      "outputs": []
    }
  ]
}