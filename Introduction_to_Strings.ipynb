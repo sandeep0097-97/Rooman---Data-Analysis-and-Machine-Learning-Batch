{
  "nbformat": 4,
  "nbformat_minor": 0,
  "metadata": {
    "kernelspec": {
      "display_name": "Python 3",
      "language": "python",
      "name": "python3"
    },
    "language_info": {
      "codemirror_mode": {
        "name": "ipython",
        "version": 3
      },
      "file_extension": ".py",
      "mimetype": "text/x-python",
      "name": "python",
      "nbconvert_exporter": "python",
      "pygments_lexer": "ipython3",
      "version": "3.7.4"
    },
    "colab": {
      "provenance": [],
      "collapsed_sections": [
        "6XqIFlaYmr1H",
        "EhEAYjRnmr1U",
        "03n7vTXRmr2E",
        "cF2zYtzdmr2G",
        "Uk9EwCKRmr2L",
        "ikQx6g8tmr2P",
        "YPKnWGBFmr2k",
        "-Q_dsma-mr2t",
        "uOh2_4hKmr24",
        "B6x3RSMkmr3A"
      ],
      "include_colab_link": true
    }
  },
  "cells": [
    {
      "cell_type": "markdown",
      "metadata": {
        "id": "view-in-github",
        "colab_type": "text"
      },
      "source": [
        "<a href=\"https://colab.research.google.com/github/sandeep0097-97/Rooman---Data-Analysis-and-Machine-Learning-Batch/blob/main/Introduction_to_Strings.ipynb\" target=\"_parent\"><img src=\"https://colab.research.google.com/assets/colab-badge.svg\" alt=\"Open In Colab\"/></a>"
      ]
    },
    {
      "cell_type": "markdown",
      "metadata": {
        "id": "tdT_IP3Pmr0m"
      },
      "source": [
        "## Introduction to Strings"
      ]
    },
    {
      "cell_type": "markdown",
      "metadata": {
        "id": "i_QBxEJymr0n"
      },
      "source": [
        "* Strings are used in Python to record text information, such as names. It could either be a word, a phrase, a sentence, a paragraph or an entire encyclopedia. Strings in Python are actually a *sequence*, which     basically means Python keeps track of every element in the string as a sequence. For example, Python understands the string \"joker' to be a sequence of letters in a specific order. This means we will be able to use indexing to grab particular letters (like the first letter, or the last letter).\n",
        "\n",
        "\n",
        "* This idea of a sequence is an important one in Python and we will touch upon it later on in the future."
      ]
    },
    {
      "cell_type": "markdown",
      "metadata": {
        "id": "w_7O10QKmr0o"
      },
      "source": [
        "###  Creating a String\n",
        "* To create a string in Python you need to use either single quotes or double quotes. For example:"
      ]
    },
    {
      "cell_type": "code",
      "source": [
        "st1= 'sandeep'"
      ],
      "metadata": {
        "id": "moHkGdCOR5Lb"
      },
      "execution_count": null,
      "outputs": []
    },
    {
      "cell_type": "code",
      "source": [
        "st1"
      ],
      "metadata": {
        "colab": {
          "base_uri": "https://localhost:8080/",
          "height": 36
        },
        "id": "7M0HNcN-R9Jk",
        "outputId": "7ff6c343-5115-40ab-a8f9-6bc1ef690634"
      },
      "execution_count": null,
      "outputs": [
        {
          "output_type": "execute_result",
          "data": {
            "text/plain": [
              "'sandeep'"
            ],
            "application/vnd.google.colaboratory.intrinsic+json": {
              "type": "string"
            }
          },
          "metadata": {},
          "execution_count": 36
        }
      ]
    },
    {
      "cell_type": "code",
      "metadata": {
        "id": "XMd1nYlKmr0p",
        "colab": {
          "base_uri": "https://localhost:8080/",
          "height": 36
        },
        "outputId": "048a06b1-bb3c-4acd-b2dd-f8d7a4f01dde"
      },
      "source": [
        "# Single word\n",
        "my_first_string= 'algebra'\n",
        "my_first_string"
      ],
      "execution_count": null,
      "outputs": [
        {
          "output_type": "execute_result",
          "data": {
            "text/plain": [
              "'algebra'"
            ],
            "application/vnd.google.colaboratory.intrinsic+json": {
              "type": "string"
            }
          },
          "metadata": {},
          "execution_count": 37
        }
      ]
    },
    {
      "cell_type": "code",
      "metadata": {
        "id": "iaz2basTmr0t",
        "colab": {
          "base_uri": "https://localhost:8080/"
        },
        "outputId": "c476dfcc-a55d-4dbb-855b-d38743008044"
      },
      "source": [
        "# Entire phrase\n",
        "phrase = 'Statistics sits at the heart of machine learning'\n",
        "print(phrase)"
      ],
      "execution_count": null,
      "outputs": [
        {
          "output_type": "stream",
          "name": "stdout",
          "text": [
            "Statistics sits at the heart of machine learning\n"
          ]
        }
      ]
    },
    {
      "cell_type": "code",
      "metadata": {
        "colab": {
          "base_uri": "https://localhost:8080/"
        },
        "id": "HElQZWE569tQ",
        "outputId": "0c335705-bd66-4730-ef44-42e85d7aecf5"
      },
      "source": [
        "# Statement to get the type of the variable\n",
        "type(phrase)"
      ],
      "execution_count": null,
      "outputs": [
        {
          "output_type": "execute_result",
          "data": {
            "text/plain": [
              "str"
            ]
          },
          "metadata": {},
          "execution_count": 39
        }
      ]
    },
    {
      "cell_type": "code",
      "metadata": {
        "id": "r77SuNlPmr0v",
        "colab": {
          "base_uri": "https://localhost:8080/"
        },
        "outputId": "089b5b4a-75d3-4add-8165-4bf0c9dbb57c"
      },
      "source": [
        "# We can also use double quote\n",
        "my_string = \"String built with double quotes\"\n",
        "print(my_string)   # Use the print command"
      ],
      "execution_count": null,
      "outputs": [
        {
          "output_type": "stream",
          "name": "stdout",
          "text": [
            "String built with double quotes\n"
          ]
        }
      ]
    },
    {
      "cell_type": "code",
      "metadata": {
        "id": "RZj7MWrMmr0y",
        "colab": {
          "base_uri": "https://localhost:8080/",
          "height": 109
        },
        "outputId": "35b3babe-c08b-4570-c3a3-d86d16861e46"
      },
      "source": [
        "# Be careful with quotes!\n",
        "sentence= 'I'm using single quotes, but this will create an error'\n",
        "print(sentence)"
      ],
      "execution_count": null,
      "outputs": [
        {
          "output_type": "error",
          "ename": "SyntaxError",
          "evalue": "unterminated string literal (detected at line 2) (<ipython-input-41-5e7b6d7da870>, line 2)",
          "traceback": [
            "\u001b[0;36m  File \u001b[0;32m\"<ipython-input-41-5e7b6d7da870>\"\u001b[0;36m, line \u001b[0;32m2\u001b[0m\n\u001b[0;31m    sentence= 'I'm using single quotes, but this will create an error'\u001b[0m\n\u001b[0m                                                                     ^\u001b[0m\n\u001b[0;31mSyntaxError\u001b[0m\u001b[0;31m:\u001b[0m unterminated string literal (detected at line 2)\n"
          ]
        }
      ]
    },
    {
      "cell_type": "markdown",
      "metadata": {
        "id": "Xn10egj7mr00"
      },
      "source": [
        "* The reason for the error above is because the single quote in <code>I'm</code> stopped the string. You can use combinations of double and single quotes to get the complete statement."
      ]
    },
    {
      "cell_type": "code",
      "metadata": {
        "id": "SyVPr5ACmr00"
      },
      "source": [
        "sentence= \"I'm using single quotes, but this will create an error\"\n",
        "print(sentence)"
      ],
      "execution_count": null,
      "outputs": []
    },
    {
      "cell_type": "code",
      "metadata": {
        "id": "QNrQSfSMdJqu"
      },
      "source": [
        "hashtag = \"#\"\n",
        "print(hashtag)"
      ],
      "execution_count": null,
      "outputs": []
    },
    {
      "cell_type": "code",
      "metadata": {
        "id": "G9N2tqNI9Uv5"
      },
      "source": [
        "type(hashtag)"
      ],
      "execution_count": null,
      "outputs": []
    },
    {
      "cell_type": "markdown",
      "metadata": {
        "id": "xuXCjPSGmr04"
      },
      "source": [
        "### How to print strings"
      ]
    },
    {
      "cell_type": "markdown",
      "metadata": {
        "id": "is3z5n_lmr04"
      },
      "source": [
        "* Using Jupyter notebook with just a string in a cell will automatically output strings, but the correct way to display strings in your output is by using a print function."
      ]
    },
    {
      "cell_type": "code",
      "metadata": {
        "id": "yBTUPuy1mr05"
      },
      "source": [
        "# We can simply declare a string\n",
        "'Deep Learning'"
      ],
      "execution_count": null,
      "outputs": []
    },
    {
      "cell_type": "code",
      "metadata": {
        "id": "zT7Fa4THmr08"
      },
      "source": [
        "# Note that we can't output multiple strings this way\n",
        "'Linear Algebra'\n",
        "'Calculus'"
      ],
      "execution_count": null,
      "outputs": []
    },
    {
      "cell_type": "markdown",
      "metadata": {
        "id": "r0F7SS9Smr0_"
      },
      "source": [
        "### We can use the <code>print()</code> statement to print a string."
      ]
    },
    {
      "cell_type": "code",
      "metadata": {
        "id": "eBQY27Yrmr1A"
      },
      "source": [
        "# print('Linear Algebra')\n",
        "# print('Calculus')\n",
        "print('Use \\n to print a new line')\n",
        "print('\\n')\n",
        "print('See what \\n I mean?')"
      ],
      "execution_count": null,
      "outputs": []
    },
    {
      "cell_type": "markdown",
      "metadata": {
        "id": "vlVtl911mr1D"
      },
      "source": [
        "## Playing with strings"
      ]
    },
    {
      "cell_type": "markdown",
      "metadata": {
        "id": "vjXDmhwLmr1D"
      },
      "source": [
        "* We can also use a function called <code>len()</code> to check the length of a string!"
      ]
    },
    {
      "cell_type": "code",
      "metadata": {
        "id": "otU_-I1Bmr1E"
      },
      "source": [
        "algo = 'regres sion '\n",
        "len(algo)"
      ],
      "execution_count": null,
      "outputs": []
    },
    {
      "cell_type": "markdown",
      "metadata": {
        "id": "wVMqyh4Gmr1G"
      },
      "source": [
        "### <b> Python's built-in len() function counts all of the characters in the string, including spaces and punctuation. </b>"
      ]
    },
    {
      "cell_type": "markdown",
      "metadata": {
        "id": "6XqIFlaYmr1H"
      },
      "source": [
        "### <u> String Indexing </u>\n",
        "\n",
        "* We know strings are a sequence, which means Python can use indexes to call parts of the sequence.\n",
        "\n",
        "\n",
        "* A string index refers to the location of an element present in a string.\n",
        "\n",
        "\n",
        "* The indexing begins from 0 in Python.\n",
        "\n",
        "\n",
        "* The first element is assigned an index 0, the second element is assigned an index of 1 and so on and so forth.\n",
        "\n",
        "\n",
        "* In Python, we use brackets <code>[]</code> after an object to call its index."
      ]
    },
    {
      "cell_type": "code",
      "metadata": {
        "id": "W1aqQ0DQmr1H"
      },
      "source": [
        "# Assign string as a string\n",
        "string  = 'Principal Component Analysis!'"
      ],
      "execution_count": null,
      "outputs": []
    },
    {
      "cell_type": "code",
      "metadata": {
        "id": "Vx4emEz2mr1K"
      },
      "source": [
        "# Print the object\n",
        "print(string)"
      ],
      "execution_count": null,
      "outputs": []
    },
    {
      "cell_type": "markdown",
      "metadata": {
        "id": "rHxN8nKNmr1N"
      },
      "source": [
        "* Let's start indexing!"
      ]
    },
    {
      "cell_type": "code",
      "metadata": {
        "id": "8hmOB4UOmr1O"
      },
      "source": [
        "# Show first element (in this case a letter)\n",
        "print(string[5])"
      ],
      "execution_count": null,
      "outputs": []
    },
    {
      "cell_type": "code",
      "metadata": {
        "id": "_-ut3Whcmr1Q"
      },
      "source": [
        "print(string[15])"
      ],
      "execution_count": null,
      "outputs": []
    },
    {
      "cell_type": "code",
      "metadata": {
        "id": "fQsgVUr8icwU"
      },
      "source": [
        "len(string)"
      ],
      "execution_count": null,
      "outputs": []
    },
    {
      "cell_type": "code",
      "metadata": {
        "id": "AdYupakmmr1S"
      },
      "source": [
        "# Grab the element at the index -1, which is the LAST element\n",
        "print(string[28])"
      ],
      "execution_count": null,
      "outputs": []
    },
    {
      "cell_type": "code",
      "metadata": {
        "id": "S--o1sizE92w"
      },
      "source": [
        "print(string[-2])"
      ],
      "execution_count": null,
      "outputs": []
    },
    {
      "cell_type": "markdown",
      "metadata": {
        "id": "EhEAYjRnmr1U"
      },
      "source": [
        "### String Slicing"
      ]
    },
    {
      "cell_type": "markdown",
      "metadata": {
        "id": "3h7kltimmr1V"
      },
      "source": [
        "* We can use a <code>:</code> to perform *slicing* which grabs everything up to a designated point.\n",
        "\n",
        "\n",
        "* The starting index is specified on the left of the <code>:</code> and the ending index is specified on the right of the <code>:</code>.\n",
        "\n",
        "\n",
        "* Remember the element located at the right index is not included."
      ]
    },
    {
      "cell_type": "code",
      "metadata": {
        "id": "mUroqei-mr1V"
      },
      "source": [
        "# Grab everything past the first term all the way to the length of s which is len(s)\n",
        "print(string)\n",
        "print(string[:13])"
      ],
      "execution_count": null,
      "outputs": []
    },
    {
      "cell_type": "code",
      "metadata": {
        "id": "MhnWuVT9GAx2"
      },
      "source": [
        "string[13]"
      ],
      "execution_count": null,
      "outputs": []
    },
    {
      "cell_type": "code",
      "metadata": {
        "id": "dqDQwX-yj7pg"
      },
      "source": [
        "string[12]"
      ],
      "execution_count": null,
      "outputs": []
    },
    {
      "cell_type": "code",
      "metadata": {
        "id": "d6VcutfNmr1Z"
      },
      "source": [
        "# Grab everything starting from index 10 till total\n",
        "print(string[10:])"
      ],
      "execution_count": null,
      "outputs": []
    },
    {
      "cell_type": "markdown",
      "metadata": {
        "id": "wI8WSykWmr1b"
      },
      "source": [
        "* If you do not specify the ending index, then all elements are extracted which comes after the starting index including the element at that starting index. The operation knows only to stop when it has run through the entire string."
      ]
    },
    {
      "cell_type": "code",
      "metadata": {
        "id": "rEhtYIfVmr1c"
      },
      "source": [
        "print(string[3:5])"
      ],
      "execution_count": null,
      "outputs": []
    },
    {
      "cell_type": "markdown",
      "metadata": {
        "id": "BEPRya3tmr1e"
      },
      "source": [
        "* If you do not specify the starting index, then all elements are extracted which comes befores the ending index excluding the element at the specified ending index. The operation knows only to stop when it has extracted all elements before the  element at the ending index."
      ]
    },
    {
      "cell_type": "code",
      "metadata": {
        "id": "f92GKgPymr1e"
      },
      "source": [
        "print(string[2:4])"
      ],
      "execution_count": null,
      "outputs": []
    },
    {
      "cell_type": "markdown",
      "metadata": {
        "id": "C8le5z8Bmr1h"
      },
      "source": [
        "* If you do not specify the starting and the ending index, it will extract all elements of the string."
      ]
    },
    {
      "cell_type": "code",
      "metadata": {
        "id": "3BF6pugMmr1h",
        "colab": {
          "base_uri": "https://localhost:8080/"
        },
        "outputId": "1f3bd7ba-3931-46ab-848b-00cb5c1a4190"
      },
      "source": [
        "#Everything\n",
        "print(string[:])\n",
        "print(string)"
      ],
      "execution_count": null,
      "outputs": [
        {
          "output_type": "stream",
          "name": "stdout",
          "text": [
            "Hello\n",
            "Hello\n"
          ]
        }
      ]
    },
    {
      "cell_type": "markdown",
      "metadata": {
        "id": "l79g0xEgmr1j"
      },
      "source": [
        "* We can also use negative indexing to go backwards."
      ]
    },
    {
      "cell_type": "code",
      "metadata": {
        "id": "Rj40dnalmr1j",
        "colab": {
          "base_uri": "https://localhost:8080/",
          "height": 162
        },
        "outputId": "bc150c2d-da6e-4614-9592-ca186a9365c0"
      },
      "source": [
        "# Last letter (one index behind 0 so it loops back around)\n",
        "string[-29]"
      ],
      "execution_count": null,
      "outputs": [
        {
          "output_type": "error",
          "ename": "IndexError",
          "evalue": "string index out of range",
          "traceback": [
            "\u001b[0;31m---------------------------------------------------------------------------\u001b[0m",
            "\u001b[0;31mIndexError\u001b[0m                                Traceback (most recent call last)",
            "\u001b[0;32m<ipython-input-43-841a94a3b6a0>\u001b[0m in \u001b[0;36m<cell line: 0>\u001b[0;34m()\u001b[0m\n\u001b[1;32m      1\u001b[0m \u001b[0;31m# Last letter (one index behind 0 so it loops back around)\u001b[0m\u001b[0;34m\u001b[0m\u001b[0;34m\u001b[0m\u001b[0m\n\u001b[0;32m----> 2\u001b[0;31m \u001b[0mstring\u001b[0m\u001b[0;34m[\u001b[0m\u001b[0;34m-\u001b[0m\u001b[0;36m29\u001b[0m\u001b[0;34m]\u001b[0m\u001b[0;34m\u001b[0m\u001b[0;34m\u001b[0m\u001b[0m\n\u001b[0m",
            "\u001b[0;31mIndexError\u001b[0m: string index out of range"
          ]
        }
      ]
    },
    {
      "cell_type": "markdown",
      "metadata": {
        "id": "AcQKQlfgmr1m"
      },
      "source": [
        "* We can also extract the last four elements. Remember we can use the index -4 to extract the FOURTH LAST element"
      ]
    },
    {
      "cell_type": "code",
      "metadata": {
        "id": "jATkF52omr1m"
      },
      "source": [
        "string[-1:-4]"
      ],
      "execution_count": null,
      "outputs": []
    },
    {
      "cell_type": "code",
      "metadata": {
        "colab": {
          "base_uri": "https://localhost:8080/",
          "height": 36
        },
        "id": "vl0XNuYOI9uB",
        "outputId": "311dc9e0-00af-4a64-d138-1b5008406036"
      },
      "source": [
        "string[-4:]"
      ],
      "execution_count": null,
      "outputs": [
        {
          "output_type": "execute_result",
          "data": {
            "text/plain": [
              "'ello'"
            ],
            "application/vnd.google.colaboratory.intrinsic+json": {
              "type": "string"
            }
          },
          "metadata": {},
          "execution_count": 44
        }
      ]
    },
    {
      "cell_type": "markdown",
      "metadata": {
        "id": "L76zPkC8mr1q"
      },
      "source": [
        "* We can also use index and slice notation to grab elements of a sequence by a specified step size (the default is 1). For instance we can use two colons in a row and then a number specifying the frequency to grab elements. For example:"
      ]
    },
    {
      "cell_type": "code",
      "metadata": {
        "id": "7yl_nj5fmr1r",
        "colab": {
          "base_uri": "https://localhost:8080/"
        },
        "outputId": "0ab3ba99-b772-4543-85c3-5eff9a24c738"
      },
      "source": [
        "# Grab everything, but go in steps size of 1\n",
        "print(string[::1])"
      ],
      "execution_count": null,
      "outputs": [
        {
          "output_type": "stream",
          "name": "stdout",
          "text": [
            "Hello\n"
          ]
        }
      ]
    },
    {
      "cell_type": "code",
      "metadata": {
        "colab": {
          "base_uri": "https://localhost:8080/"
        },
        "id": "QHg78LgvJzNE",
        "outputId": "78c8576e-d278-4418-e709-ff4d644ff3ac"
      },
      "source": [
        "print(string[::3])"
      ],
      "execution_count": null,
      "outputs": [
        {
          "output_type": "stream",
          "name": "stdout",
          "text": [
            "Hl\n"
          ]
        }
      ]
    },
    {
      "cell_type": "code",
      "metadata": {
        "id": "ereWDp3Cmr1t",
        "colab": {
          "base_uri": "https://localhost:8080/"
        },
        "outputId": "a9c1b7ce-e40f-446c-9dc9-fd4012ade775"
      },
      "source": [
        "# Grab everything, but go in step sizes of 5\n",
        "print(string[5:15:5])"
      ],
      "execution_count": null,
      "outputs": [
        {
          "output_type": "stream",
          "name": "stdout",
          "text": [
            "\n"
          ]
        }
      ]
    },
    {
      "cell_type": "code",
      "metadata": {
        "colab": {
          "base_uri": "https://localhost:8080/",
          "height": 36
        },
        "id": "rJnDRdwnKvos",
        "outputId": "3e97f801-cd45-4db3-9d74-17a2a5779ae0"
      },
      "source": [
        "string[::1]"
      ],
      "execution_count": null,
      "outputs": [
        {
          "output_type": "execute_result",
          "data": {
            "text/plain": [
              "'Hello'"
            ],
            "application/vnd.google.colaboratory.intrinsic+json": {
              "type": "string"
            }
          },
          "metadata": {},
          "execution_count": 48
        }
      ]
    },
    {
      "cell_type": "code",
      "metadata": {
        "id": "GIljHfQimr1w",
        "colab": {
          "base_uri": "https://localhost:8080/",
          "height": 36
        },
        "outputId": "6b6e6c46-7e8c-4081-b000-67a635071038"
      },
      "source": [
        "# We can use this to print a string backwards\n",
        "string[::-1]"
      ],
      "execution_count": null,
      "outputs": [
        {
          "output_type": "execute_result",
          "data": {
            "text/plain": [
              "'olleH'"
            ],
            "application/vnd.google.colaboratory.intrinsic+json": {
              "type": "string"
            }
          },
          "metadata": {},
          "execution_count": 49
        }
      ]
    },
    {
      "cell_type": "code",
      "metadata": {
        "id": "kcaf3COcmr1y",
        "colab": {
          "base_uri": "https://localhost:8080/",
          "height": 36
        },
        "outputId": "200521e1-2997-4359-b32e-316e566fdac0"
      },
      "source": [
        "# We can use this to print a string backwards with steps\n",
        "string[2:4:-1]"
      ],
      "execution_count": null,
      "outputs": [
        {
          "output_type": "execute_result",
          "data": {
            "text/plain": [
              "''"
            ],
            "application/vnd.google.colaboratory.intrinsic+json": {
              "type": "string"
            }
          },
          "metadata": {},
          "execution_count": 50
        }
      ]
    },
    {
      "cell_type": "code",
      "metadata": {
        "colab": {
          "base_uri": "https://localhost:8080/",
          "height": 36
        },
        "id": "wkioIS4ELIRo",
        "outputId": "c422fa1d-2151-4077-8476-0649790f603a"
      },
      "source": [
        "string[4:2:-1]"
      ],
      "execution_count": null,
      "outputs": [
        {
          "output_type": "execute_result",
          "data": {
            "text/plain": [
              "'ol'"
            ],
            "application/vnd.google.colaboratory.intrinsic+json": {
              "type": "string"
            }
          },
          "metadata": {},
          "execution_count": 51
        }
      ]
    },
    {
      "cell_type": "code",
      "metadata": {
        "id": "xHczE7gypxMk",
        "colab": {
          "base_uri": "https://localhost:8080/",
          "height": 36
        },
        "outputId": "437266e4-4469-4e18-d636-661015c5cd26"
      },
      "source": [
        "s = 'foobar'\n",
        "s[0::-3]"
      ],
      "execution_count": null,
      "outputs": [
        {
          "output_type": "execute_result",
          "data": {
            "text/plain": [
              "'f'"
            ],
            "application/vnd.google.colaboratory.intrinsic+json": {
              "type": "string"
            }
          },
          "metadata": {},
          "execution_count": 52
        }
      ]
    },
    {
      "cell_type": "markdown",
      "metadata": {
        "id": "qTlCu2phmr11"
      },
      "source": [
        "## String Properties\n",
        "\n",
        "* It's important to note that strings have an important property known as *immutability*.\n",
        "\n",
        "\n",
        "* This means that once a string is created, the elements within it can not be changed or replaced via item assignment. We will see how we can do such operation using string methods"
      ]
    },
    {
      "cell_type": "code",
      "metadata": {
        "id": "eE2jbYDMmr11",
        "colab": {
          "base_uri": "https://localhost:8080/",
          "height": 180
        },
        "outputId": "4b49e8db-c49e-4c50-e95b-46ff5897c8f9"
      },
      "source": [
        "# Can we change our string 'Hello' to 'Cello'? Lets try replacing the first letter H with C\n",
        "string='Hello'\n",
        "string[0] = 'C'"
      ],
      "execution_count": null,
      "outputs": [
        {
          "output_type": "error",
          "ename": "TypeError",
          "evalue": "'str' object does not support item assignment",
          "traceback": [
            "\u001b[0;31m---------------------------------------------------------------------------\u001b[0m",
            "\u001b[0;31mTypeError\u001b[0m                                 Traceback (most recent call last)",
            "\u001b[0;32m<ipython-input-53-f55372fc219f>\u001b[0m in \u001b[0;36m<cell line: 0>\u001b[0;34m()\u001b[0m\n\u001b[1;32m      1\u001b[0m \u001b[0;31m# Can we change our string 'Hello' to 'Cello'? Lets try replacing the first letter H with C\u001b[0m\u001b[0;34m\u001b[0m\u001b[0;34m\u001b[0m\u001b[0m\n\u001b[1;32m      2\u001b[0m \u001b[0mstring\u001b[0m\u001b[0;34m=\u001b[0m\u001b[0;34m'Hello'\u001b[0m\u001b[0;34m\u001b[0m\u001b[0;34m\u001b[0m\u001b[0m\n\u001b[0;32m----> 3\u001b[0;31m \u001b[0mstring\u001b[0m\u001b[0;34m[\u001b[0m\u001b[0;36m0\u001b[0m\u001b[0;34m]\u001b[0m \u001b[0;34m=\u001b[0m \u001b[0;34m'C'\u001b[0m\u001b[0;34m\u001b[0m\u001b[0;34m\u001b[0m\u001b[0m\n\u001b[0m",
            "\u001b[0;31mTypeError\u001b[0m: 'str' object does not support item assignment"
          ]
        }
      ]
    },
    {
      "cell_type": "markdown",
      "metadata": {
        "id": "cGn9h31xmr13"
      },
      "source": [
        "* Notice how the error tells us directly what we can't do, that is we can't change the item assignment!\n",
        "\n",
        "\n",
        "* Something we *can* do is concatenate strings!"
      ]
    },
    {
      "cell_type": "code",
      "metadata": {
        "id": "Ana6cTXTmr14",
        "colab": {
          "base_uri": "https://localhost:8080/"
        },
        "outputId": "8dee10e2-db7f-4d26-9904-2dd4e892aef9"
      },
      "source": [
        "# Concatenate strings!\n",
        "\n",
        "string1='abc'\n",
        "string2='def'\n",
        "print(string1 + ' ' + string2 )"
      ],
      "execution_count": null,
      "outputs": [
        {
          "output_type": "stream",
          "name": "stdout",
          "text": [
            "abc def\n"
          ]
        }
      ]
    },
    {
      "cell_type": "code",
      "metadata": {
        "id": "ouFQybUrNCgm",
        "colab": {
          "base_uri": "https://localhost:8080/",
          "height": 144
        },
        "outputId": "a89d6846-32ac-4815-b275-3344e9295093"
      },
      "source": [
        "print(string1 + 4 + string2)"
      ],
      "execution_count": null,
      "outputs": [
        {
          "output_type": "error",
          "ename": "TypeError",
          "evalue": "can only concatenate str (not \"int\") to str",
          "traceback": [
            "\u001b[0;31m---------------------------------------------------------------------------\u001b[0m",
            "\u001b[0;31mTypeError\u001b[0m                                 Traceback (most recent call last)",
            "\u001b[0;32m<ipython-input-57-544903aa2d55>\u001b[0m in \u001b[0;36m<cell line: 0>\u001b[0;34m()\u001b[0m\n\u001b[0;32m----> 1\u001b[0;31m \u001b[0mprint\u001b[0m\u001b[0;34m(\u001b[0m\u001b[0mstring1\u001b[0m \u001b[0;34m+\u001b[0m \u001b[0;36m4\u001b[0m \u001b[0;34m+\u001b[0m \u001b[0mstring2\u001b[0m\u001b[0;34m)\u001b[0m\u001b[0;34m\u001b[0m\u001b[0;34m\u001b[0m\u001b[0m\n\u001b[0m",
            "\u001b[0;31mTypeError\u001b[0m: can only concatenate str (not \"int\") to str"
          ]
        }
      ]
    },
    {
      "cell_type": "markdown",
      "metadata": {
        "id": "S3h79CMjmr17"
      },
      "source": [
        "* To convert an integer into a string, you can use the <code>str()</code> function or you can simply write the number in quotes"
      ]
    },
    {
      "cell_type": "code",
      "metadata": {
        "id": "-bQKbbIKmr17",
        "colab": {
          "base_uri": "https://localhost:8080/"
        },
        "outputId": "7f166cb3-ff3f-446a-98bb-427d5419b592"
      },
      "source": [
        "# Concatenate strings!\n",
        "\n",
        "string1='abc'\n",
        "string2='def'\n",
        "num = 4\n",
        "print(string1 + str(4) + string2)"
      ],
      "execution_count": null,
      "outputs": [
        {
          "output_type": "stream",
          "name": "stdout",
          "text": [
            "abc4def\n"
          ]
        }
      ]
    },
    {
      "cell_type": "code",
      "metadata": {
        "id": "PRTTNkyWqujV"
      },
      "source": [
        "str(num)"
      ],
      "execution_count": null,
      "outputs": []
    },
    {
      "cell_type": "code",
      "metadata": {
        "id": "mm6CJD-fmr19"
      },
      "source": [
        "# Concatenate strings!\n",
        "string1='abc'\n",
        "string2='def'\n",
        "string1 + '4'+ string2"
      ],
      "execution_count": null,
      "outputs": []
    },
    {
      "cell_type": "code",
      "metadata": {
        "id": "oU-CD4VbrBJ5"
      },
      "source": [
        "print(string)"
      ],
      "execution_count": null,
      "outputs": []
    },
    {
      "cell_type": "code",
      "metadata": {
        "id": "N1iCkcKomr1_"
      },
      "source": [
        "# We can reassign string completely though!\n",
        "string = string + ' concatenate me!'\n",
        "print(string)"
      ],
      "execution_count": null,
      "outputs": []
    },
    {
      "cell_type": "code",
      "metadata": {
        "id": "pj2d89iKmr2A",
        "colab": {
          "base_uri": "https://localhost:8080/",
          "height": 36
        },
        "outputId": "fd77fd1f-6ca1-4239-bf44-2ab550b1283a"
      },
      "source": [
        "letters = 'wubba'\n",
        "letters*3"
      ],
      "execution_count": null,
      "outputs": [
        {
          "output_type": "execute_result",
          "data": {
            "text/plain": [
              "'wubbawubbawubba'"
            ],
            "application/vnd.google.colaboratory.intrinsic+json": {
              "type": "string"
            }
          },
          "metadata": {},
          "execution_count": 58
        }
      ]
    },
    {
      "cell_type": "markdown",
      "metadata": {
        "id": "duTA9_hlmr2C"
      },
      "source": [
        "## String functions and methods"
      ]
    },
    {
      "cell_type": "code",
      "metadata": {
        "id": "0Wy8i1-Mmr2D",
        "colab": {
          "base_uri": "https://localhost:8080/"
        },
        "outputId": "4c2b8321-46eb-4740-b21f-8a320ae90f69"
      },
      "source": [
        "algorithm = 'Neural Networks'\n",
        "\n",
        "print(algorithm)"
      ],
      "execution_count": null,
      "outputs": [
        {
          "output_type": "stream",
          "name": "stdout",
          "text": [
            "Neural Networks\n"
          ]
        }
      ]
    },
    {
      "cell_type": "markdown",
      "metadata": {
        "id": "03n7vTXRmr2E"
      },
      "source": [
        "### <code>len()</code>\n",
        "\n",
        "* <code>len()</code> function returns the length of the string"
      ]
    },
    {
      "cell_type": "code",
      "metadata": {
        "id": "At6CdDUgmr2F"
      },
      "source": [
        "# Print the length of the string\n",
        "len(algorithm)"
      ],
      "execution_count": null,
      "outputs": []
    },
    {
      "cell_type": "markdown",
      "metadata": {
        "id": "cF2zYtzdmr2G"
      },
      "source": [
        "###  <code>lower()</code>\n",
        "\n",
        "* <code>lower()</code> method converts the string to lowercase"
      ]
    },
    {
      "cell_type": "code",
      "metadata": {
        "id": "nX86MJxZmr2H",
        "colab": {
          "base_uri": "https://localhost:8080/",
          "height": 36
        },
        "outputId": "8d867c67-72c4-450f-fe83-9b750e035462"
      },
      "source": [
        "# Conver the string to lowercase\n",
        "algorithm.lower()"
      ],
      "execution_count": null,
      "outputs": [
        {
          "output_type": "execute_result",
          "data": {
            "text/plain": [
              "'neural networks'"
            ],
            "application/vnd.google.colaboratory.intrinsic+json": {
              "type": "string"
            }
          },
          "metadata": {},
          "execution_count": 60
        }
      ]
    },
    {
      "cell_type": "code",
      "metadata": {
        "id": "uNysVw_SsMNn"
      },
      "source": [
        "print(algorithm)"
      ],
      "execution_count": null,
      "outputs": []
    },
    {
      "cell_type": "markdown",
      "metadata": {
        "id": "858z5CKZmr2J"
      },
      "source": [
        "* <u> What about <code>lower(algorithm)</code>? Is it not similar to the <code>len()</code>function?</u>\n",
        "\n",
        "\n",
        "* <u> An important point to note here is <code>len()</code> is a function and <code>lower()</code> is a method for a string object. It will be pretty clear about the exact differences between a function and a method as we move ahead. </u>"
      ]
    },
    {
      "cell_type": "code",
      "metadata": {
        "id": "dUG6OM68mr2J"
      },
      "source": [
        "# Lets try that out\n",
        "lower(algorithm)"
      ],
      "execution_count": null,
      "outputs": []
    },
    {
      "cell_type": "markdown",
      "metadata": {
        "id": "Uk9EwCKRmr2L"
      },
      "source": [
        "###  <code>upper()</code>\n",
        "\n",
        "* <code>upper()</code> method converts the string to uppercase"
      ]
    },
    {
      "cell_type": "code",
      "source": [],
      "metadata": {
        "id": "LTU2XoeLuwew"
      },
      "execution_count": null,
      "outputs": []
    },
    {
      "cell_type": "code",
      "metadata": {
        "id": "cqkxoLYwmr2M",
        "colab": {
          "base_uri": "https://localhost:8080/",
          "height": 36
        },
        "outputId": "2ff9568f-997e-47fb-e1de-78b083f02086"
      },
      "source": [
        "# Convert the string to uppercase\n",
        "algorithm.upper()"
      ],
      "execution_count": null,
      "outputs": [
        {
          "output_type": "execute_result",
          "data": {
            "text/plain": [
              "'NEURAL NETWORKS'"
            ],
            "application/vnd.google.colaboratory.intrinsic+json": {
              "type": "string"
            }
          },
          "metadata": {},
          "execution_count": 61
        }
      ]
    },
    {
      "cell_type": "code",
      "metadata": {
        "id": "yO16_FvNP3u3"
      },
      "source": [
        "print(algorithm)"
      ],
      "execution_count": null,
      "outputs": []
    },
    {
      "cell_type": "markdown",
      "metadata": {
        "id": "ikQx6g8tmr2P"
      },
      "source": [
        "### <code>count()</code>\n",
        "\n",
        "*  <code>count()</code> method returns the count of a string in the given string. Unlike <code>lower()</code> and <code>upper()</code> method, the <code>count()</code> method takes a string as an argument"
      ]
    },
    {
      "cell_type": "code",
      "metadata": {
        "id": "NZ4Z8talmr2Q"
      },
      "source": [
        "print(algorithm)"
      ],
      "execution_count": null,
      "outputs": []
    },
    {
      "cell_type": "code",
      "metadata": {
        "id": "fYzKjXf5mr2T",
        "colab": {
          "base_uri": "https://localhost:8080/"
        },
        "outputId": "806334eb-82c3-4032-d1c7-c2ec92de514c"
      },
      "source": [
        "algorithm.count('Ne')"
      ],
      "execution_count": null,
      "outputs": [
        {
          "output_type": "execute_result",
          "data": {
            "text/plain": [
              "2"
            ]
          },
          "metadata": {},
          "execution_count": 62
        }
      ]
    },
    {
      "cell_type": "code",
      "metadata": {
        "id": "iM7o2uh-mr2W"
      },
      "source": [
        "algorithm.count('eu')"
      ],
      "execution_count": null,
      "outputs": []
    },
    {
      "cell_type": "code",
      "metadata": {
        "id": "3En7zUGmmr2c",
        "colab": {
          "base_uri": "https://localhost:8080/"
        },
        "outputId": "97ec326c-a921-4265-c812-bf076b2e419b"
      },
      "source": [
        "algorithm.count(' ')"
      ],
      "execution_count": null,
      "outputs": [
        {
          "output_type": "execute_result",
          "data": {
            "text/plain": [
              "1"
            ]
          },
          "metadata": {},
          "execution_count": 63
        }
      ]
    },
    {
      "cell_type": "code",
      "metadata": {
        "id": "omv1VDDqmr2f",
        "colab": {
          "base_uri": "https://localhost:8080/"
        },
        "outputId": "bcadfce8-8742-49f6-ee98-c0b1506865a4"
      },
      "source": [
        "algorithm.count('Neural')"
      ],
      "execution_count": null,
      "outputs": [
        {
          "output_type": "execute_result",
          "data": {
            "text/plain": [
              "1"
            ]
          },
          "metadata": {},
          "execution_count": 64
        }
      ]
    },
    {
      "cell_type": "code",
      "metadata": {
        "id": "nvHrSXJRmr2h",
        "colab": {
          "base_uri": "https://localhost:8080/"
        },
        "outputId": "15da2a96-3633-4e8a-84fb-650ab238662c"
      },
      "source": [
        "algorithm.count('Neurla')"
      ],
      "execution_count": null,
      "outputs": [
        {
          "output_type": "execute_result",
          "data": {
            "text/plain": [
              "0"
            ]
          },
          "metadata": {},
          "execution_count": 65
        }
      ]
    },
    {
      "cell_type": "markdown",
      "metadata": {
        "id": "YPKnWGBFmr2k"
      },
      "source": [
        "### <code>find()</code>\n",
        "\n",
        "* <code>find()</code> method returns the index of the first occurrence of a string present in a given string. Similar to the <code>count()</code> method, the <code>find()</code> method takes a string as an argument"
      ]
    },
    {
      "cell_type": "code",
      "metadata": {
        "id": "GfkJ9pWbt5AU",
        "colab": {
          "base_uri": "https://localhost:8080/"
        },
        "outputId": "cb3553e6-4f95-4323-b2c8-0da01e768922"
      },
      "source": [
        "print(algorithm)"
      ],
      "execution_count": null,
      "outputs": [
        {
          "output_type": "stream",
          "name": "stdout",
          "text": [
            "Neural Networks\n"
          ]
        }
      ]
    },
    {
      "cell_type": "code",
      "metadata": {
        "id": "ILyYqHUnmr2k",
        "colab": {
          "base_uri": "https://localhost:8080/"
        },
        "outputId": "f308fcb2-5d2c-4c2f-8d46-7bf85f2af66a"
      },
      "source": [
        "algorithm.find('e')"
      ],
      "execution_count": null,
      "outputs": [
        {
          "output_type": "execute_result",
          "data": {
            "text/plain": [
              "1"
            ]
          },
          "metadata": {},
          "execution_count": 67
        }
      ]
    },
    {
      "cell_type": "code",
      "metadata": {
        "id": "8cGFl7nEmr2n",
        "colab": {
          "base_uri": "https://localhost:8080/"
        },
        "outputId": "fca71886-cd44-4277-e039-ecb3bded510a"
      },
      "source": [
        "algorithm.find('Neural')"
      ],
      "execution_count": null,
      "outputs": [
        {
          "output_type": "execute_result",
          "data": {
            "text/plain": [
              "0"
            ]
          },
          "metadata": {},
          "execution_count": 68
        }
      ]
    },
    {
      "cell_type": "code",
      "metadata": {
        "id": "eCSKV08mmr2q"
      },
      "source": [
        "algorithm.find('Box')"
      ],
      "execution_count": null,
      "outputs": []
    },
    {
      "cell_type": "markdown",
      "metadata": {
        "id": "QnIAoEnEmr2t"
      },
      "source": [
        "* <u>An important point to note here is that if the string which you are looking for, is not contained in the original string, then the find method will return a value of -1 </u>"
      ]
    },
    {
      "cell_type": "markdown",
      "metadata": {
        "id": "-Q_dsma-mr2t"
      },
      "source": [
        "### <code>replace()</code>\n",
        "\n",
        "*  <code>replace()</code> method takes two arguments - (i) the string to replace and (ii) the string to replace with, and returns a modified string after the operation"
      ]
    },
    {
      "cell_type": "code",
      "metadata": {
        "id": "9X7rqsDnRyiX",
        "colab": {
          "base_uri": "https://localhost:8080/",
          "height": 144
        },
        "outputId": "e084f717-5122-4249-9d14-e79ca8f728af"
      },
      "source": [
        "print(algorithm)"
      ],
      "execution_count": null,
      "outputs": [
        {
          "output_type": "error",
          "ename": "NameError",
          "evalue": "name 'algorithm' is not defined",
          "traceback": [
            "\u001b[0;31m---------------------------------------------------------------------------\u001b[0m",
            "\u001b[0;31mNameError\u001b[0m                                 Traceback (most recent call last)",
            "\u001b[0;32m<ipython-input-54-e2cc39420333>\u001b[0m in \u001b[0;36m<cell line: 0>\u001b[0;34m()\u001b[0m\n\u001b[0;32m----> 1\u001b[0;31m \u001b[0mprint\u001b[0m\u001b[0;34m(\u001b[0m\u001b[0malgorithm\u001b[0m\u001b[0;34m)\u001b[0m\u001b[0;34m\u001b[0m\u001b[0;34m\u001b[0m\u001b[0m\n\u001b[0m",
            "\u001b[0;31mNameError\u001b[0m: name 'algorithm' is not defined"
          ]
        }
      ]
    },
    {
      "cell_type": "code",
      "metadata": {
        "id": "rnokQ_6kmr2u",
        "colab": {
          "base_uri": "https://localhost:8080/",
          "height": 36
        },
        "outputId": "b5803ab9-695a-4472-f371-7dca94f5abe1"
      },
      "source": [
        "algorithm.replace(' ','-')"
      ],
      "execution_count": null,
      "outputs": [
        {
          "output_type": "execute_result",
          "data": {
            "text/plain": [
              "'Neural-Networks'"
            ],
            "application/vnd.google.colaboratory.intrinsic+json": {
              "type": "string"
            }
          },
          "metadata": {},
          "execution_count": 69
        }
      ]
    },
    {
      "cell_type": "code",
      "metadata": {
        "id": "9x114Rapmr2w",
        "colab": {
          "base_uri": "https://localhost:8080/",
          "height": 36
        },
        "outputId": "234ab6da-0d61-4528-ad5b-9fe24bff4b3b"
      },
      "source": [
        "algorithm.replace('N','L')"
      ],
      "execution_count": null,
      "outputs": [
        {
          "output_type": "execute_result",
          "data": {
            "text/plain": [
              "'Leural Letworks'"
            ],
            "application/vnd.google.colaboratory.intrinsic+json": {
              "type": "string"
            }
          },
          "metadata": {},
          "execution_count": 70
        }
      ]
    },
    {
      "cell_type": "code",
      "metadata": {
        "id": "djxLa2-Hmr2z"
      },
      "source": [
        "print(algorithm)"
      ],
      "execution_count": null,
      "outputs": []
    },
    {
      "cell_type": "markdown",
      "metadata": {
        "id": "s2Mh-mbimr22"
      },
      "source": [
        "* <u>Another important point worth noting here is applying any method on a string does not actually change the original string. For example, when you print out the algorithm string, it still contains the original value 'Neural Networks'</u>\n",
        "\n",
        "\n",
        "* <u> We need to store the modified string in another variable"
      ]
    },
    {
      "cell_type": "code",
      "metadata": {
        "id": "tW013YBJmr22"
      },
      "source": [
        "# Storing the modified string\n",
        "algorithm_revised  = algorithm.replace('Neural','Artificial Neural')\n",
        "print(algorithm_revised)\n",
        "print(algorithm)"
      ],
      "execution_count": null,
      "outputs": []
    },
    {
      "cell_type": "markdown",
      "metadata": {
        "id": "uOh2_4hKmr24"
      },
      "source": [
        "### Printing strings a bit differently"
      ]
    },
    {
      "cell_type": "code",
      "metadata": {
        "id": "AJjdr5ghmr24",
        "colab": {
          "base_uri": "https://localhost:8080/"
        },
        "outputId": "b88cfb0d-5077-4fb4-9d77-2183286061a7"
      },
      "source": [
        "first_name = 'Rahul'\n",
        "last_name = 'Modi'\n",
        "\n",
        "full_name = f'Left plus right makes {first_name}  {last_name}'  # Use {} to print the variable you want to\n",
        "print(full_name)"
      ],
      "execution_count": null,
      "outputs": [
        {
          "output_type": "stream",
          "name": "stdout",
          "text": [
            "Left plus right makes Rahul  Modi\n"
          ]
        }
      ]
    },
    {
      "cell_type": "code",
      "metadata": {
        "id": "K-p0nqpjwANZ",
        "colab": {
          "base_uri": "https://localhost:8080/"
        },
        "outputId": "56813c2a-c2d5-4ac1-a620-e29b873d3911"
      },
      "source": [
        "print(first_name + ' '+last_name)"
      ],
      "execution_count": null,
      "outputs": [
        {
          "output_type": "stream",
          "name": "stdout",
          "text": [
            "Rahul Modi\n"
          ]
        }
      ]
    },
    {
      "cell_type": "code",
      "metadata": {
        "id": "qIHd9TJ_RTZs"
      },
      "source": [],
      "execution_count": null,
      "outputs": []
    },
    {
      "cell_type": "code",
      "metadata": {
        "id": "2CR9yok8mr29"
      },
      "source": [
        "first_name = 'Vikash'\n",
        "middle_name = ''\n",
        "last_name = 'Srivastava'\n",
        "\n",
        "full_name = f'I am none other than {first_name} {middle_name}{last_name}. I am a Data Scientist'\n",
        "print(full_name)"
      ],
      "execution_count": null,
      "outputs": []
    },
    {
      "cell_type": "code",
      "metadata": {
        "id": "lXeN8B21TyZW"
      },
      "source": [
        "print(f'I am none other than {first_name} {middle_name}{last_name}. I am a Data Scientist')"
      ],
      "execution_count": null,
      "outputs": []
    },
    {
      "cell_type": "markdown",
      "metadata": {
        "id": "B6x3RSMkmr3A"
      },
      "source": [
        "### Check if a string contains a particular word or character"
      ]
    },
    {
      "cell_type": "code",
      "metadata": {
        "id": "gxoRht92mr3A"
      },
      "source": [
        "my_string = 'Albert Einstein'"
      ],
      "execution_count": null,
      "outputs": []
    },
    {
      "cell_type": "code",
      "metadata": {
        "id": "NrXXZLYsxNlT",
        "colab": {
          "base_uri": "https://localhost:8080/"
        },
        "outputId": "70cc6bf5-e08b-4797-bec0-5a928bdec07f"
      },
      "source": [
        "'Albert' in my_string"
      ],
      "execution_count": null,
      "outputs": [
        {
          "output_type": "execute_result",
          "data": {
            "text/plain": [
              "True"
            ]
          },
          "metadata": {},
          "execution_count": 74
        }
      ]
    },
    {
      "cell_type": "code",
      "metadata": {
        "id": "mlMC_fR5UPmK",
        "colab": {
          "base_uri": "https://localhost:8080/"
        },
        "outputId": "b891c4a5-4e8c-487b-fa88-242f0e6d4c37"
      },
      "source": [
        "'Alberta' in my_string"
      ],
      "execution_count": null,
      "outputs": [
        {
          "output_type": "execute_result",
          "data": {
            "text/plain": [
              "False"
            ]
          },
          "metadata": {},
          "execution_count": 75
        }
      ]
    },
    {
      "cell_type": "code",
      "metadata": {
        "id": "yaicv9mBUS_R"
      },
      "source": [],
      "execution_count": null,
      "outputs": []
    },
    {
      "cell_type": "markdown",
      "source": [
        "#Student Analytics"
      ],
      "metadata": {
        "id": "MxISZ-W1Niz5"
      }
    },
    {
      "cell_type": "markdown",
      "source": [
        "##1. Learning Progress Tracker"
      ],
      "metadata": {
        "id": "gczG0htsNnDe"
      }
    },
    {
      "cell_type": "code",
      "source": [
        "import matplotlib.pyplot as plt\n",
        "\n",
        "# Example data\n",
        "modules = ['Module 1', 'Module 2', 'Module 3', 'Module 4']\n",
        "completion_status = [80, 100, 50, 30]  # Completion percentage for each module\n",
        "\n",
        "# Plotting the Learning Progress Tracker\n",
        "plt.bar(modules, completion_status)\n",
        "plt.xlabel('Modules')\n",
        "plt.ylabel('Completion Percentage')\n",
        "plt.title('Learning Progress Tracker')\n",
        "plt.ylim(0, 100)  # Setting y-axis limit to 0-100\n",
        "plt.show()\n"
      ],
      "metadata": {
        "id": "8DaGVq_-NiRO"
      },
      "execution_count": null,
      "outputs": []
    },
    {
      "cell_type": "markdown",
      "source": [
        "## Learning Milestones:"
      ],
      "metadata": {
        "id": "nBBcgePwNy-N"
      }
    },
    {
      "cell_type": "code",
      "source": [
        "import matplotlib.pyplot as plt\n",
        "\n",
        "# Example data\n",
        "milestones = ['Module 1', 'Module 2', 'Module 3']\n",
        "achievements = [1, 2, 3]  # Achievement levels or milestones reached\n",
        "\n",
        "# Plotting the Learning Milestones\n",
        "plt.plot(milestones, achievements, marker='o')\n",
        "plt.xlabel('Milestones')\n",
        "plt.ylabel('Achievements')\n",
        "plt.title('Learning Milestones')\n",
        "plt.show()\n"
      ],
      "metadata": {
        "id": "qfH4nkzINiDM"
      },
      "execution_count": null,
      "outputs": []
    },
    {
      "cell_type": "markdown",
      "source": [
        "## Performance Benchmarking:"
      ],
      "metadata": {
        "id": "9N0psonJODaq"
      }
    },
    {
      "cell_type": "code",
      "source": [
        "import matplotlib.pyplot as plt\n",
        "\n",
        "# Example data\n",
        "categories = ['Assignments', 'Module Projects']\n",
        "student_scores = [90, 85]  # Student's scores\n",
        "cohort_averages = [87, 82]  # Cohort average scores\n",
        "\n",
        "# Plotting Performance Benchmarking\n",
        "x = range(len(categories))\n",
        "plt.bar(x, student_scores, width=0.4, label='Student')\n",
        "plt.bar(x, cohort_averages, width=0.4, label='Cohort Average')\n",
        "plt.xticks(x, categories)\n",
        "plt.xlabel('Categories')\n",
        "plt.ylabel('Scores')\n",
        "plt.title('Performance Benchmarking')\n",
        "plt.legend()\n",
        "plt.show()\n"
      ],
      "metadata": {
        "id": "AYTVYzVYN0_m"
      },
      "execution_count": null,
      "outputs": []
    },
    {
      "cell_type": "markdown",
      "source": [
        "## Learning Engagement Metrics:"
      ],
      "metadata": {
        "id": "GP86qNH9OJ6J"
      }
    },
    {
      "cell_type": "code",
      "source": [
        "import matplotlib.pyplot as plt\n",
        "\n",
        "# Example data\n",
        "weeks = ['Week 1', 'Week 2', 'Week 3', 'Week 4']\n",
        "attendance_rate = [80, 90, 85, 95]  # Attendance percentage for each week\n",
        "participation = [10, 15, 12, 8]  # Number of forum or discussion interactions per week\n",
        "\n",
        "# Plotting Learning Engagement Metrics\n",
        "fig, ax1 = plt.subplots()\n",
        "ax1.plot(weeks, attendance_rate, color='tab:blue')\n",
        "ax1.set_xlabel('Weeks')\n",
        "ax1.set_ylabel('Attendance Rate', color='tab:blue')\n",
        "\n",
        "ax2 = ax1.twinx()\n",
        "ax2.bar(weeks, participation, alpha=0.5, color='tab:orange')\n",
        "ax2.set_ylabel('Participation', color='tab:orange')\n",
        "\n",
        "plt.title('Learning Engagement Metrics')\n",
        "plt.show()\n"
      ],
      "metadata": {
        "id": "IZQg-PXFOFRL"
      },
      "execution_count": null,
      "outputs": []
    },
    {
      "cell_type": "markdown",
      "source": [
        "## Self-Assessment and Reflection:"
      ],
      "metadata": {
        "id": "7HfNE-EYOZvL"
      }
    },
    {
      "cell_type": "code",
      "source": [
        "# Example code for a self-assessment survey using a library like PySimpleGUI\n",
        "\n",
        "import PySimpleGUI as sg\n",
        "\n",
        "# Layout for the self-assessment survey\n",
        "layout = [\n",
        "    [sg.Text('Rate your understanding of the course materials:')],\n",
        "    [sg.Radio('1 - Low', group_id='rating'), sg.Radio('2 - Moderate', group_id='rating'),\n",
        "     sg.Radio('3 - High', group_id='rating')],\n",
        "    [sg.Text('Set a learning goal for the next module:')],\n",
        "    [sg.InputText()],\n",
        "    [sg.Text('Provide a reflection on your learning experience:')],\n",
        "    [sg.Multiline()],\n",
        "    [sg.Button('Submit')]\n",
        "]\n",
        "\n",
        "# Create the window\n",
        "window = sg.Window('Self-Assessment and Reflection', layout)\n",
        "\n",
        "# Event loop to process events and collect survey responses\n",
        "while True:\n",
        "    event, values = window.read()\n",
        "    if event == sg.WINDOW_CLOSED or event == 'Submit':\n",
        "        break\n",
        "\n",
        "# Close the window\n",
        "window.close()\n",
        "\n",
        "# Process the survey responses\n",
        "rating = values['rating']\n",
        "learning_goal = values[0]\n",
        "reflection = values[1]\n",
        "\n",
        "# Further processing of the survey responses\n",
        "# ...\n",
        "\n"
      ],
      "metadata": {
        "id": "Y1RtO2ubOMVD"
      },
      "execution_count": null,
      "outputs": []
    },
    {
      "cell_type": "code",
      "source": [
        "pip install PySimpleGUI"
      ],
      "metadata": {
        "id": "7C0L1226Ob7j"
      },
      "execution_count": null,
      "outputs": []
    },
    {
      "cell_type": "code",
      "source": [
        "import matplotlib.pyplot as plt\n",
        "import seaborn as sns\n",
        "\n",
        "# Example data\n",
        "modules = ['Module 1', 'Module 2', 'Module 3', 'Module 4']\n",
        "categories = ['Time Spent Learning', 'Time Spent in Class', 'Time Spent in Community']\n",
        "activity_data = [\n",
        "    [10, 20, 15, 25],\n",
        "    [5, 10, 8, 15],\n",
        "    [2, 5, 3, 8]\n",
        "]\n",
        "\n",
        "# Plotting the heatmap\n",
        "fig, ax = plt.subplots(figsize=(8, 6))\n",
        "\n",
        "# Creating the heatmap using seaborn\n",
        "heatmap = sns.heatmap(activity_data, cmap='Blues', annot=True, fmt=\"d\", linewidths=0.5, ax=ax)\n",
        "\n",
        "# Adding module and category labels\n",
        "ax.set_xticklabels(modules)\n",
        "ax.set_yticklabels(categories)\n",
        "\n",
        "# Adding a colorbar\n",
        "cbar = ax.collections[0].colorbar\n",
        "cbar.set_label('Activity')\n",
        "\n",
        "# Adding major milestones with different reward color\n",
        "milestones = [1, 2]  # Example milestones\n",
        "for milestone in milestones:\n",
        "    heatmap.add_patch(plt.Rectangle((milestone - 0.5, -0.5), 1, len(categories), fill=True, edgecolor='black', facecolor='yellow'))\n",
        "\n",
        "# Adding accomplishment text on hover\n",
        "for i in range(len(categories)):\n",
        "    for j in range(len(modules)):\n",
        "        text = f'{activity_data[i][j]} hours'  # Example text\n",
        "        heatmap.text(j + 0.5, i + 0.5, text, ha='center', va='center')\n",
        "\n",
        "# Setting the title\n",
        "plt.title('Student Activity Heatmap')\n",
        "\n",
        "# Displaying the heatmap\n",
        "plt.show()\n"
      ],
      "metadata": {
        "id": "QtfEwfsSOo42"
      },
      "execution_count": null,
      "outputs": []
    },
    {
      "cell_type": "code",
      "source": [
        "import matplotlib.pyplot as plt\n",
        "import numpy as np\n",
        "\n",
        "# Example data\n",
        "weeks = np.arange(1, 9)  # Number of weeks\n",
        "student_progress = [0, 10, 25, 40, 60, 80, 90, 95]  # Student progress percentage for each week\n",
        "cohort_progress = [0, 20, 40, 50, 70, 90, 95, 100]  # Cohort progress percentage for each week\n",
        "\n",
        "# Finding the latest week where at least one learner had learning activity in the last 7 days\n",
        "latest_week_index = max(np.where(np.array(cohort_progress) > 0)[0])\n",
        "\n",
        "# Plotting the progress worms\n",
        "fig, ax = plt.subplots(figsize=(8, 4))\n",
        "\n",
        "# Plotting the student progress worm\n",
        "ax.plot(weeks, student_progress, color='tab:blue', linewidth=2, label='Student Progress')\n",
        "\n",
        "# Plotting the cohort progress worm\n",
        "ax.plot(weeks[:latest_week_index+1], cohort_progress[:latest_week_index+1], color='tab:orange', linewidth=2, label='Cohort Progress')\n",
        "\n",
        "# Highlighting the latest week for both worms\n",
        "ax.scatter(weeks[latest_week_index], student_progress[latest_week_index], color='tab:blue', s=80)\n",
        "ax.scatter(weeks[latest_week_index], cohort_progress[latest_week_index], color='tab:orange', s=80)\n",
        "\n",
        "# Adding labels and title\n",
        "ax.set_xlabel('Weeks')\n",
        "ax.set_ylabel('Progress (%)')\n",
        "plt.title('Student and Cohort Progress Worms')\n",
        "\n",
        "# Adding a legend\n",
        "ax.legend()\n",
        "\n",
        "# Displaying the progress worms\n",
        "plt.tight_layout()\n",
        "plt.show()\n"
      ],
      "metadata": {
        "id": "qgBfQiCvSvX8"
      },
      "execution_count": null,
      "outputs": []
    },
    {
      "cell_type": "code",
      "source": [
        "import numpy as np\n",
        "import matplotlib.pyplot as plt\n",
        "\n",
        "# Example data\n",
        "modules = ['Module 1', 'Module 2', 'Module 3', 'Module 4']\n",
        "categories = ['Time Spent Learning', 'Time Spent in Class', 'Time Spent in Community']\n",
        "activity_data = [\n",
        "    [[4, 6, 7, 5], [3, 5, 4, 2], [2, 3, 2, 1], [1, 2, 1, 1]],\n",
        "    [[5, 7, 8, 6], [4, 6, 5, 3], [3, 4, 3, 2], [2, 3, 2, 1]],\n",
        "    [[2, 3, 4, 3], [1, 2, 3, 2], [2, 3, 2, 1], [3, 4, 3, 2]]\n",
        "]\n",
        "\n",
        "# Convert activity data to numpy array for easier manipulation\n",
        "activity_array = np.array(activity_data)\n",
        "\n",
        "# Create a figure with multiple subplots\n",
        "fig, axs = plt.subplots(len(categories), 1, figsize=(8, 6), sharex=True)\n",
        "\n",
        "# Loop through each category and create corresponding heat map subplot\n",
        "for i, category in enumerate(categories):\n",
        "    ax = axs[i]\n",
        "    activity = activity_array[i]\n",
        "\n",
        "    # Plotting the heat map\n",
        "    im = ax.imshow(activity, cmap='Blues', vmin=0, vmax=10)\n",
        "\n",
        "    # Customize the tick labels and axis labels\n",
        "    ax.set_xticks(np.arange(len(modules)))\n",
        "    ax.set_yticks(np.arange(len(weeks)))\n",
        "    ax.set_xticklabels(modules)\n",
        "    ax.set_yticklabels(weeks)\n",
        "    ax.set_ylabel('Weeks')\n",
        "\n",
        "    # Rotate the x-axis tick labels for better readability\n",
        "    plt.setp(ax.get_xticklabels(), rotation=45, ha='right', rotation_mode='anchor')\n",
        "\n",
        "    # Add major milestones with different reward color\n",
        "    milestones = [1, 2]  # Example milestones\n",
        "    for milestone in milestones:\n",
        "        ax.add_patch(plt.Rectangle((milestone - 0.5, -0.5), 1, len(modules), fill=True, edgecolor='black', facecolor='yellow'))\n",
        "\n",
        "    # Add accomplishment text on hover\n",
        "    for x in range(len(modules)):\n",
        "        for y in range(len(weeks)):\n",
        "            text = f'{activity[y][x]} hrs'  # Example text\n",
        "            ax.text(x, y, text, ha='center', va='center', color='white')\n",
        "\n",
        "    # Set the title for each subplot\n",
        "    ax.set_title(category)\n",
        "\n",
        "# Add a colorbar\n",
        "cbar = fig.colorbar(im, ax=axs)\n",
        "cbar.set_label('Activity')\n",
        "\n",
        "# Add a suptitle for the entire figure\n",
        "plt.suptitle('Student Activity Heatmap')\n",
        "\n",
        "# Adjust the spacing between subplots\n",
        "plt.tight_layout(rect=[0, 0, 1, 0.95])\n",
        "\n",
        "# Show the plot\n",
        "plt.show()\n"
      ],
      "metadata": {
        "id": "jhaCjIbDXVkL"
      },
      "execution_count": null,
      "outputs": []
    },
    {
      "cell_type": "code",
      "source": [
        "import numpy as np\n",
        "import matplotlib.pyplot as plt\n",
        "\n",
        "# Example data\n",
        "modules = ['Module 1', 'Module 2', 'Module 3', 'Module 4']\n",
        "weeks = ['Week 1', 'Week 2', 'Week 3', 'Week 4']\n",
        "categories = ['Time Spent Learning', 'Time Spent in Class', 'Time Spent in Community']\n",
        "activity_data = [\n",
        "    [[4, 6, 7, 5], [3, 5, 4, 2], [2, 3, 2, 1], [1, 2, 1, 1]],\n",
        "    [[5, 7, 8, 6], [4, 6, 5, 3], [3, 4, 3, 2], [2, 3, 2, 1]],\n",
        "    [[2, 3, 4, 3], [1, 2, 3, 2], [2, 3, 2, 1], [3, 4, 3, 2]]\n",
        "]\n",
        "\n",
        "# Convert activity data to numpy array for easier manipulation\n",
        "activity_array = np.array(activity_data)\n",
        "\n",
        "# Create a figure with multiple subplots\n",
        "fig, axs = plt.subplots(len(categories), 1, figsize=(8, 6), sharex=True)\n",
        "\n",
        "# Loop through each category and create corresponding heat map subplot\n",
        "for i, category in enumerate(categories):\n",
        "    ax = axs[i]\n",
        "    activity = activity_array[i]\n",
        "\n",
        "    # Plotting the heat map\n",
        "    im = ax.imshow(activity, cmap='Blues', vmin=0, vmax=10)\n",
        "\n",
        "    # Customize the tick labels and axis labels\n",
        "    ax.set_xticks(np.arange(len(modules)))\n",
        "    ax.set_yticks(np.arange(len(weeks)))\n",
        "    ax.set_xticklabels(modules)\n",
        "    ax.set_yticklabels(weeks)\n",
        "    ax.set_ylabel('Weeks')\n",
        "\n",
        "    # Rotate the x-axis tick labels for better readability\n",
        "    plt.setp(ax.get_xticklabels(), rotation=45, ha='right', rotation_mode='anchor')\n",
        "\n",
        "    # Add major milestones with different reward color\n",
        "    milestones = [1, 2]  # Example milestones\n",
        "    for milestone in milestones:\n",
        "        ax.add_patch(plt.Rectangle((milestone - 0.5, -0.5), 1, len(modules), fill=True, edgecolor='black', facecolor='yellow'))\n",
        "\n",
        "    # Add accomplishment text on hover\n",
        "    for x in range(len(modules)):\n",
        "        for y in range(len(weeks)):\n",
        "            text = f'{activity[y][x]} hrs'  # Example text\n",
        "            ax.text(x, y, text, ha='center', va='center', color='white')\n",
        "\n",
        "    # Set the title for each subplot\n",
        "    ax.set_title(category)\n",
        "\n",
        "# Add a colorbar\n",
        "cbar = fig.colorbar(im, ax=axs)\n",
        "cbar.set_label('Activity')\n",
        "\n",
        "# Add a suptitle for the entire figure\n",
        "plt.suptitle('Student Activity Heatmap')\n",
        "\n",
        "# Adjust the spacing between subplots\n",
        "plt.tight_layout(rect=[0, 0, 1, 0.95])\n",
        "\n",
        "# Show the plot\n",
        "plt.show()\n"
      ],
      "metadata": {
        "id": "hHKi2UAZYQRy"
      },
      "execution_count": null,
      "outputs": []
    },
    {
      "cell_type": "code",
      "source": [
        "import datetime\n",
        "\n",
        "# Example data\n",
        "start_date = datetime.date(2023, 1, 1)  # Start date of the program\n",
        "end_date = datetime.date(2023, 9, 30)  # End date of the program\n",
        "expected_etj = datetime.timedelta(weeks=32)  # Expected time-to-job goal in weeks\n",
        "\n",
        "# Example progress data\n",
        "completion_of_coursework = 0.8  # Coursework completion percentage (0 to 1)\n",
        "job_application_metrics = 0.6  # Job application metrics score (0 to 1)\n",
        "mentor_feedback = 0.9  # Mentor feedback score (0 to 1)\n",
        "overall_performance = 0.7  # Overall performance score (0 to 1)\n",
        "\n",
        "# Calculate the current progress\n",
        "current_date = datetime.date.today()\n",
        "elapsed_time = current_date - start_date\n",
        "current_progress = elapsed_time / expected_etj\n",
        "\n",
        "# Calculate the weighted average progress based on different metrics\n",
        "weighted_progress = (\n",
        "    completion_of_coursework * 0.3 +\n",
        "    job_application_metrics * 0.2 +\n",
        "    mentor_feedback * 0.2 +\n",
        "    overall_performance * 0.3\n",
        ")\n",
        "\n",
        "# Calculate the remaining time to reach the ETJ goal\n",
        "remaining_time = expected_etj - elapsed_time\n",
        "\n",
        "# Calculate the estimated completion date\n",
        "estimated_completion_date = current_date + remaining_time\n",
        "\n",
        "# Print the progress information\n",
        "print(f\"Current Progress: {current_progress:.1%}\")\n",
        "print(f\"Weighted Progress: {weighted_progress:.1%}\")\n",
        "print(f\"Remaining Time: {remaining_time.days // 7} weeks\")\n",
        "print(f\"Estimated Completion Date: {estimated_completion_date}\")\n"
      ],
      "metadata": {
        "id": "0wrvjt3FYirp"
      },
      "execution_count": null,
      "outputs": []
    },
    {
      "cell_type": "code",
      "source": [
        "import matplotlib.pyplot as plt\n",
        "\n",
        "# Example data\n",
        "students = ['Student A', 'Student B', 'Student C', 'Student D', 'Student E']\n",
        "achievements = [10, 8, 6, 12, 9]\n",
        "\n",
        "# Sort the students based on achievements in descending order\n",
        "sorted_students = [student for _, student in sorted(zip(achievements, students), reverse=True)]\n",
        "sorted_achievements = sorted(achievements, reverse=True)\n",
        "\n",
        "# Create the figure and axis\n",
        "fig, ax = plt.subplots(figsize=(8, 6))\n",
        "\n",
        "# Plot the leaderboard\n",
        "ax.barh(range(len(sorted_students)), sorted_achievements, align='center', color='green')\n",
        "\n",
        "# Add labels to the bars\n",
        "for i, (student, achievement) in enumerate(zip(sorted_students, sorted_achievements)):\n",
        "    ax.text(achievement + 0.2, i, str(achievement), va='center')\n",
        "\n",
        "# Customize the y-axis ticks and labels\n",
        "ax.set_yticks(range(len(sorted_students)))\n",
        "ax.set_yticklabels(sorted_students)\n",
        "\n",
        "# Set the x-axis label\n",
        "ax.set_xlabel('Achievements')\n",
        "\n",
        "# Set the title\n",
        "ax.set_title('Top Achievements')\n",
        "\n",
        "# Invert the y-axis to display the highest achievements at the top\n",
        "ax.invert_yaxis()\n",
        "\n",
        "# Show the plot\n",
        "plt.tight_layout()\n",
        "plt.show()\n"
      ],
      "metadata": {
        "id": "0cW5JIE_bwBt"
      },
      "execution_count": null,
      "outputs": []
    },
    {
      "cell_type": "code",
      "source": [
        "import matplotlib.pyplot as plt\n",
        "\n",
        "# Example data\n",
        "students = ['Student A', 'Student B', 'Student C', 'Student D', 'Student E']\n",
        "achievements = [10, 8, 6, 12, 9]\n",
        "current_student = 'Student D'\n",
        "\n",
        "# Sort the students based on achievements in descending order\n",
        "sorted_students = [student for _, student in sorted(zip(achievements, students), reverse=True)]\n",
        "sorted_achievements = sorted(achievements, reverse=True)\n",
        "\n",
        "# Get the index of the current student\n",
        "current_student_index = sorted_students.index(current_student)\n",
        "\n",
        "# Determine the range of students to display\n",
        "start_index = max(0, current_student_index - 2)\n",
        "end_index = min(len(sorted_students), current_student_index + 3)\n",
        "displayed_students = sorted_students[start_index:end_index]\n",
        "displayed_achievements = sorted_achievements[start_index:end_index]\n",
        "\n",
        "# Create the figure and axis\n",
        "fig, ax = plt.subplots(figsize=(8, 6))\n",
        "\n",
        "# Plot the leaderboard\n",
        "ax.barh(range(len(displayed_students)), displayed_achievements, align='center', color='green')\n",
        "\n",
        "# Add labels to the bars\n",
        "for i, (student, achievement) in enumerate(zip(displayed_students, displayed_achievements)):\n",
        "    ax.text(achievement + 0.2, i, str(achievement), va='center')\n",
        "\n",
        "# Customize the y-axis ticks and labels\n",
        "ax.set_yticks(range(len(displayed_students)))\n",
        "ax.set_yticklabels(displayed_students)\n",
        "\n",
        "# Set the x-axis label\n",
        "ax.set_xlabel('Achievements')\n",
        "\n",
        "# Set the title\n",
        "ax.set_title('Top Achievements Leaderboard')\n",
        "\n",
        "# Invert the y-axis to display the highest achievements at the top\n",
        "ax.invert_yaxis()\n",
        "\n",
        "# Show the plot\n",
        "plt.tight_layout()\n",
        "plt.show()\n"
      ],
      "metadata": {
        "id": "2zdF0CtxedOt"
      },
      "execution_count": null,
      "outputs": []
    },
    {
      "cell_type": "code",
      "source": [],
      "metadata": {
        "id": "WEAcH2fMevWV"
      },
      "execution_count": null,
      "outputs": []
    }
  ]
}